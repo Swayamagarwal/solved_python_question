{
 "cells": [
  {
   "cell_type": "markdown",
   "metadata": {},
   "source": [
    "## Easy - Coding Practise"
   ]
  },
  {
   "cell_type": "markdown",
   "metadata": {
    "jp-MarkdownHeadingCollapsed": true,
    "tags": []
   },
   "source": [
    "## 11\n",
    "https://drive.google.com/file/d/1rCfiGm9g-uxgXWDFpmZmtHDP3VGXQBus/view"
   ]
  },
  {
   "cell_type": "markdown",
   "metadata": {},
   "source": [
    "#### 1. Create a function that takes a list and returns a new list containing only prime numbers.\n",
    "\n",
    "**Examples**\n",
    "\n",
    "filter_primes([7, 9, 3, 9, 10, 11, 27]) ➞ [7, 3, 11]\n",
    "\n",
    "filter_primes([10007, 1009, 1007, 27, 147, 77, 1001, 70]) ➞ [10007, 1009]\n",
    "\n",
    "filter_primes([1009, 10, 10, 10, 3, 33, 9, 4, 1, 61, 63, 69, 1087, 1091, 1093,\n",
    "1097]) ➞ [1009, 3, 61, 1087, 1091, 1093, 1097]\n",
    "\n"
   ]
  },
  {
   "cell_type": "code",
   "execution_count": 27,
   "metadata": {},
   "outputs": [
    {
     "data": {
      "text/plain": [
       "[3, 1091, 1093, 1097, 1009, 1087, 61]"
      ]
     },
     "execution_count": 27,
     "metadata": {},
     "output_type": "execute_result"
    }
   ],
   "source": [
    "def filter_primes(primes):\n",
    "    primes = list(set(primes))\n",
    "    output = []\n",
    "    for num in primes:\n",
    "        c = 0\n",
    "        for i in range(1,num//2+1):\n",
    "            if num%i==0:\n",
    "                c +=1\n",
    "        if c==1:\n",
    "            output.append(num)\n",
    "    return output\n",
    "\n",
    "\n",
    "primes =[1009, 10, 10, 10, 3, 33, 9, 4, 1, 61, 63, 69, 1087, 1091, 1093, 1097] #[7, 9, 3, 9, 10, 11, 27]\n",
    "filter_primes(primes)"
   ]
  },
  {
   "cell_type": "markdown",
   "metadata": {},
   "source": [
    "#### 2. Once a water balloon pops, is soaks the area around it. The ground gets drier the further away you travel from the balloon. \n",
    "#### The effect of a water balloon popping can be modeled using a list. Create a function that takes a list which takes the pre-pop state and returns the state after the balloon is popped. The pre-pop state will contain at most a single balloon, whose size is represented by the only non-zero element.\n",
    "\n",
    "**Examples**\n",
    "\n",
    "pop([0, 0, 0, 0, 4, 0, 0, 0, 0]) ➞ [0, 1, 2, 3, 4, 3, 2, 1, 0]\n",
    "\n",
    "pop([0, 0, 0, 3, 0, 0, 0]) ➞ [0, 1, 2, 3, 2, 1, 0]\n",
    "\n",
    "pop([0, 0, 2, 0, 0]) ➞ [0, 1, 2, 1, 0]\n",
    "\n",
    "pop([0]) ➞ [0]"
   ]
  },
  {
   "cell_type": "code",
   "execution_count": 40,
   "metadata": {},
   "outputs": [
    {
     "name": "stdout",
     "output_type": "stream",
     "text": [
      "99\n"
     ]
    },
    {
     "data": {
      "text/plain": [
       "[0, 1, 2, 3, 4, 3, 2, 1, 99]"
      ]
     },
     "execution_count": 129,
     "metadata": {},
     "output_type": "execute_result"
    }
   ],
   "source": [
    "def pop(lst):\n",
    "    val = [n for n in lst if n!=0]\n",
    "    if val:\n",
    "        val=val[0]\n",
    "        for i in range(1,val):\n",
    "            lst[val-i] = val-i\n",
    "            lst[val+i] = val-i\n",
    "        return lst\n",
    "    return [0]\n",
    "\n",
    "lst = [0, 0, 0, 0, 4, 0, 0, 0, 0] #[0]\n",
    "pop(lst)"
   ]
  },
  {
   "cell_type": "markdown",
   "metadata": {},
   "source": [
    "#### 3. \"Loves me, loves me not\" is a traditional game in which a person plucks off all the petals of a flower one by one, saying the phrase \"Loves me\" and \"Loves me not\" when determining whether the one that they love, loves them back.\n",
    "\n",
    "#### Given a number of petals, return a string which repeats the phrases \"Loves me\" and \"Loves me not\" for every alternating petal, and return the last phrase in all caps. Remember to put a comma and space between phrases.\n",
    "\n",
    "**Examples**\n",
    "\n",
    "loves_me(3) ➞ \"Loves me, Loves me not, LOVES ME\"\n",
    "\n",
    "loves_me(6) ➞ \"Loves me, Loves me not, Loves me, Loves me not, Loves me, LOVES ME NOT\"\n",
    "\n",
    "loves_me(1) ➞ \"LOVES ME\""
   ]
  },
  {
   "cell_type": "code",
   "execution_count": 53,
   "metadata": {},
   "outputs": [
    {
     "data": {
      "text/plain": [
       "'Loves me, Loves me not, LOVES ME'"
      ]
     },
     "execution_count": 53,
     "metadata": {},
     "output_type": "execute_result"
    }
   ],
   "source": [
    "def loves_me(num_of_petals):\n",
    "    ls = []\n",
    "    for i in range(1,num_of_petals+1):\n",
    "        if i%2==0:\n",
    "            ls.append(\"Loves me not\")\n",
    "        else:\n",
    "            ls.append(\"Loves me\")\n",
    "    ls[-1] = ls[-1].upper()\n",
    "    return \", \".join(ls)\n",
    "\n",
    "loves_me(3)"
   ]
  },
  {
   "cell_type": "markdown",
   "metadata": {},
   "source": [
    "#### 4. Write a function that sorts each string in a list by the letter in alphabetic ascending order (a-z).\n",
    "\n",
    "**Examples**\n",
    "\n",
    "sort_by_letter([\"932c\", \"832u32\",\"2344b\"]) ➞  [\"2344b\",\"932c\", \"832u32\"]\n",
    "\n",
    "sort_by_letter([\"99a\", \"78b\", \"c2345\", \"11d\"]) ➞  [\"99a\", \"78b\", \"c2345\", \"11d\"]\n",
    "\n",
    "sort_by_letter([\"572z\", \"5y5\", \"304q2\"]) ➞  [ \"304q2\", \"572z\", \"5y5\"]\n",
    "\n",
    "sort_by_letter([]) ➞ []\n"
   ]
  },
  {
   "cell_type": "code",
   "execution_count": 121,
   "metadata": {},
   "outputs": [
    {
     "name": "stdout",
     "output_type": "stream",
     "text": [
      "['2344b', '932c', '832u32']\n"
     ]
    }
   ],
   "source": [
    "def sort_by_letter(ls):\n",
    "    char_list, new = [],[]\n",
    "    dummy = \"\".join(ls)\n",
    "    char_list = [i for i in dummy if i.isalpha()]\n",
    "    char_list.sort()\n",
    "    for i in char_list:\n",
    "        for string in ls:\n",
    "            if i in string:\n",
    "                new.append(string)\n",
    "    print(new)\n",
    "\n",
    "ls = [\"932c\", \"832u32\",\"2344b\"]\n",
    "sort_by_letter(ls)"
   ]
  },
  {
   "cell_type": "markdown",
   "metadata": {},
   "source": [
    "#### 5. There are three cups on a table, at positions A, B, and C. At the start, there is a ball hidden under the cup at position B.\n",
    "#### However, I perform several swaps on the cups, which is notated as two letters. For example, if I swap the cups at positions A and B, I could notate this as AB or BA.\n",
    "\n",
    "#### Create a function that returns the letter position that the ball is at, once I finish swapping the cups. The swaps will be given to you as a list.\n",
    "\n",
    "**Example**\n",
    "\n",
    "cup_swapping([\"AB\", \"CA\", \"AB\"]) ➞ \"C\";\n",
    "\n",
    "Ball begins at position B.\n",
    "\n",
    "Cups A and B swap, so the ball is at position A.\n",
    "\n",
    "Cups C and A swap, so the ball is at position C.\n",
    "\n",
    "Cups A and B swap, but the ball is at position C, so it doesn&#39;t move."
   ]
  },
  {
   "cell_type": "code",
   "execution_count": 189,
   "metadata": {},
   "outputs": [
    {
     "data": {
      "text/plain": [
       "'s'"
      ]
     },
     "execution_count": 189,
     "metadata": {},
     "output_type": "execute_result"
    }
   ],
   "source": [
    "s= {'s'}\n",
    "\"\".join(list(s))"
   ]
  },
  {
   "cell_type": "code",
   "execution_count": 190,
   "metadata": {},
   "outputs": [
    {
     "data": {
      "text/plain": [
       "'C'"
      ]
     },
     "execution_count": 190,
     "metadata": {},
     "output_type": "execute_result"
    }
   ],
   "source": [
    "def cup_swapping(ls):\n",
    "    start = 'B'\n",
    "    for i in ls:\n",
    "        if start in i:\n",
    "            # end = \"\".join([char for char in i if start!=char])\n",
    "            end = \"\".join(list(set(i)-set(start)))\n",
    "        start = end\n",
    "    return end\n",
    "\n",
    "cup_swapping([\"AB\", \"CA\", \"AB\"])"
   ]
  },
  {
   "cell_type": "markdown",
   "metadata": {
    "jp-MarkdownHeadingCollapsed": true,
    "tags": []
   },
   "source": [
    "## 12\n",
    "https://drive.google.com/file/d/1nqUHeOtOIQtc7A-W59w41-6THswYFLte/view"
   ]
  },
  {
   "cell_type": "markdown",
   "metadata": {},
   "source": [
    "#### 1. For this challenge, forget how to add two numbers together. The best explanation on what to do for this function is this meme:\n",
    "\n",
    "**Examples**\n",
    "\n",
    "meme_sum(26, 39) ➞ 515\n",
    "\n",
    "2+3 = 5, 6+9 = 15\n",
    "\n",
    "26 + 39 = 515\n",
    "\n",
    "\n",
    "meme_sum(122, 81) ➞ 1103\n",
    "\n",
    " 1+0 = 1, 2+8 = 10, 2+1 = 3\n",
    "\n",
    "122 + 81 = 1103\n",
    "\n",
    "meme_sum(1222, 30277) ➞ 31499"
   ]
  },
  {
   "cell_type": "code",
   "execution_count": 243,
   "metadata": {
    "tags": []
   },
   "outputs": [
    {
     "name": "stdout",
     "output_type": "stream",
     "text": [
      "31499\n"
     ]
    }
   ],
   "source": [
    "def meme_sum(a, b):\n",
    "    ls = []\n",
    "    while(a!=0 or b!=0):\n",
    "        x = a%10\n",
    "        y = b%10\n",
    "        s = x+y\n",
    "        ls.append(str(s))\n",
    "        a = a//10\n",
    "        b = b//10\n",
    "    ls.reverse()\n",
    "    print(\"\".join(ls))\n",
    "\n",
    "meme_sum(1222, 30277)"
   ]
  },
  {
   "cell_type": "markdown",
   "metadata": {},
   "source": [
    "#### 2. Given an integer, create a function that returns the next prime. If the number is prime, return the number itself.\n",
    "\n",
    "**Examples**\n",
    "\n",
    "next_prime(12) ➞ 13\n",
    "\n",
    "next_prime(24) ➞ 29\n",
    "\n",
    "next_prime(11) ➞ 11\n",
    "\n",
    "11 is a prime, so we return the number itself."
   ]
  },
  {
   "cell_type": "code",
   "execution_count": 289,
   "metadata": {
    "tags": []
   },
   "outputs": [
    {
     "name": "stdout",
     "output_type": "stream",
     "text": [
      "29\n"
     ]
    }
   ],
   "source": [
    "def next_prime(num):\n",
    "    flag = 0\n",
    "    # def prime(num):\n",
    "    for i in range(2, num//2):\n",
    "        if num%i==0:\n",
    "            break\n",
    "    else:\n",
    "        print(num)\n",
    "        flag = 1\n",
    "    # return prime(13)\n",
    "    if flag == 0:\n",
    "        while True:\n",
    "            num += 1\n",
    "            for i in range(2,num//2):\n",
    "                if num%i==0:\n",
    "                    break\n",
    "            else:\n",
    "                print(num)\n",
    "                flag =1\n",
    "            if flag==1:\n",
    "                break\n",
    "            \n",
    "next_prime(24)\n",
    "\n",
    "# we can take prime into a function"
   ]
  },
  {
   "cell_type": "markdown",
   "metadata": {},
   "source": [
    "#### 3. If a person traveled up a hill for 18mins at 20mph and then traveled back down the same path at 60mph then their average speed traveled was 30mph.\n",
    "#### Write a function that returns the average speed traveled given an uphill time, uphill rate and a downhill rate. Uphill time is given in minutes. Return the rate as an integer (mph). No rounding is necessary.\n",
    "\n",
    "**Examples**\n",
    "\n",
    "ave_spd(18, 20, 60) ➞ 30\n",
    "\n",
    "ave_spd(30, 10, 30) ➞ 15\n",
    "\n",
    "ave_spd(30, 8, 24) ➞ 12"
   ]
  },
  {
   "cell_type": "code",
   "execution_count": 311,
   "metadata": {},
   "outputs": [
    {
     "name": "stdout",
     "output_type": "stream",
     "text": [
      "12\n"
     ]
    }
   ],
   "source": [
    "def ave_spd(um,ur,dr):\n",
    "    um = um/60\n",
    "    distance = um*ur\n",
    "    dm = distance/dr\n",
    "    print( int((2*distance)/(um+dm)))\n",
    "\n",
    "ave_spd(30,8,24) "
   ]
  },
  {
   "cell_type": "markdown",
   "metadata": {
    "tags": []
   },
   "source": [
    "#### 4. The Kempner Function, applied to a composite number, permits to find the smallest integer greater than zero whose factorial is exactly divided by the number.\n",
    "\n",
    "kempner(6) ➞ 3\n",
    "\n",
    "1! = 1 % 6 > 0\n",
    "\n",
    "2! = 2 % 6 > 0\n",
    "\n",
    "3! = 6 % 6 === 0\n",
    "\n",
    "kempner(10) ➞ 5\n",
    "\n",
    "1! = 1 % 10 > 0\n",
    "\n",
    "2! = 2 % 10 > 0\n",
    "\n",
    "3! = 6 % 10 > 0\n",
    "\n",
    "4! = 24 % 10 > 0\n",
    "\n",
    "5! = 120 % 10 === 0\n",
    "\n",
    "#### A Kempner Function applied to a prime will always return the prime itself.\n",
    "kempner(2) ➞ 2\n",
    "\n",
    "kempner(5) ➞ 5\n",
    "\n",
    "#### Given an integer n, implement a Kempner Function.\n",
    "\n",
    "**Examples**\n",
    "\n",
    "kempner(6) ➞ 3\n",
    "\n",
    "kempner(10) ➞ 5\n",
    "\n",
    "kempner(2) ➞ 2"
   ]
  },
  {
   "cell_type": "code",
   "execution_count": 349,
   "metadata": {},
   "outputs": [
    {
     "name": "stdout",
     "output_type": "stream",
     "text": [
      "5\n"
     ]
    }
   ],
   "source": [
    "def kempner(num):\n",
    "    for i in range(1,num+1):\n",
    "        p=1\n",
    "        for j in range(1,i+1):\n",
    "            p *= j\n",
    "        if p%num==0:\n",
    "            print(i)\n",
    "            break\n",
    "\n",
    "kempner(10)"
   ]
  },
  {
   "cell_type": "markdown",
   "metadata": {
    "tags": []
   },
   "source": [
    "#### 5. You work in a factory, and your job is to take items from a conveyor belt and pack them into boxes. Each box can hold a maximum of 10 kgs. Given a list containing the weight (in kg) of each item, how many boxes would you need to pack all of the items?\n",
    "\n",
    "**Example**\n",
    "\n",
    "boxes([2, 1, 2, 5, 4, 3, 6, 1, 1, 9, 3, 2]) ➞ 5\n",
    "\n",
    "Box 1 = [2, 1, 2, 5] (10kg)\n",
    "\n",
    "Box 2 = [4, 3] (7kg)\n",
    "\n",
    "Box 3 = [6, 1, 1] (8kg)\n",
    "\n",
    "Box 4 = [9] (9kg)\n",
    "\n",
    "Box 5 = [3, 2] (5kg)"
   ]
  },
  {
   "cell_type": "code",
   "execution_count": 375,
   "metadata": {},
   "outputs": [
    {
     "name": "stdout",
     "output_type": "stream",
     "text": [
      "5\n"
     ]
    }
   ],
   "source": [
    "def boxes(ls):\n",
    "    limit = 10\n",
    "    count=0\n",
    "    for i in ls:\n",
    "        limit = limit-i\n",
    "        if limit >0:\n",
    "            continue\n",
    "        else:\n",
    "            count +=1\n",
    "            limit=10-i\n",
    "    print(count)\n",
    "    \n",
    "boxes([2, 1, 2, 5, 4, 3, 6, 1, 1, 9, 3, 2])"
   ]
  },
  {
   "cell_type": "markdown",
   "metadata": {
    "jp-MarkdownHeadingCollapsed": true,
    "tags": []
   },
   "source": [
    "## 13\n",
    "https://drive.google.com/file/d/12QSeUwU1cUM55KYfiUz-8LEU4lhts1jL/view"
   ]
  },
  {
   "cell_type": "markdown",
   "metadata": {},
   "source": [
    "#### 1. Create a function that takes a list and string. The function should remove the letters in the string from the list, and return the list.\n",
    "\n",
    "**Examples**\n",
    "\n",
    "remove_letters([\"s\",\"t\",\"r\",\"i\",\"n\",\"g\",\"w\"], \"string\") ➞ [\"w\"]\n",
    "\n",
    "remove_letters([\"b\",\"b\",\"l\",\"l\",\"g\",\"n\",\"o\",\"a\",\"w\"], \"balloon\") ➞ [\"b\",\"g\",\"w\"]\n",
    "\n",
    "remove_letters([\"d\",\"b\",\"t\",\"e\",\"a\",\"i\"], \"edabit\") ➞ []"
   ]
  },
  {
   "cell_type": "code",
   "execution_count": 462,
   "metadata": {},
   "outputs": [
    {
     "data": {
      "text/plain": [
       "['b', 'g', 'w']"
      ]
     },
     "execution_count": 462,
     "metadata": {},
     "output_type": "execute_result"
    }
   ],
   "source": [
    "def remove_letters(lst, string):\n",
    "    for i in string:\n",
    "        if i in lst:\n",
    "            lst.remove(i)\n",
    "    return lst\n",
    "\n",
    "remove_letters([\"b\",\"b\",\"l\",\"l\",\"g\",\"n\",\"o\",\"a\",\"w\"], \"balloon\")"
   ]
  },
  {
   "cell_type": "markdown",
   "metadata": {},
   "source": [
    "#### 2. A block sequence in three dimensions. We can write a formula for this one:\n",
    "#### Create a function that takes a number (step) as an argument and returns the amount of blocks in that step.\n",
    "\n",
    "**Examples**\n",
    "\n",
    "blocks(1) ➞ 5\n",
    "\n",
    "blocks(5) ➞ 39\n",
    "\n",
    "blocks(2) ➞ 12"
   ]
  },
  {
   "cell_type": "code",
   "execution_count": 689,
   "metadata": {},
   "outputs": [
    {
     "data": {
      "text/plain": [
       "39"
      ]
     },
     "execution_count": 689,
     "metadata": {},
     "output_type": "execute_result"
    }
   ],
   "source": [
    "def blocks(n):\n",
    "    init = 5\n",
    "    if n==1:\n",
    "        return init\n",
    "    for i in range(1,n):\n",
    "        init += (6+i)\n",
    "    return init\n",
    "blocks(5)"
   ]
  },
  {
   "cell_type": "markdown",
   "metadata": {},
   "source": [
    "#### 3. Create a function that subtracts one positive integer from another, without using any arithmetic operators such as -, %, /, +, etc.\n",
    "\n",
    "**Examples**\n",
    "\n",
    "my_sub(5, 9) ➞ 4\n",
    "\n",
    "my_sub(10, 30) ➞ 20\n",
    "\n",
    "my_sub(0, 0) ➞ 0"
   ]
  },
  {
   "cell_type": "code",
   "execution_count": 524,
   "metadata": {},
   "outputs": [
    {
     "data": {
      "text/plain": [
       "20"
      ]
     },
     "execution_count": 524,
     "metadata": {},
     "output_type": "execute_result"
    }
   ],
   "source": [
    "def my_sub(a,b):\n",
    "    lst = list(range(1,b+1))\n",
    "    for i in range(a):\n",
    "        lst.pop()\n",
    "    return max(lst)\n",
    "        \n",
    "my_sub(10,30)"
   ]
  },
  {
   "cell_type": "markdown",
   "metadata": {},
   "source": [
    "#### 4. Create a function that takes a string containing money in dollars and pounds sterling (seperated by comma) and returns the sum of dollar bills only, as an integer.\n",
    "\n",
    "For the input string:\n",
    "\n",
    "- Each amount is prefixed by the currency symbol: $ for dollars and £ for pounds.\n",
    "- Thousands are represented by the suffix k. \n",
    "\n",
    "i.e. $4k = $4,000 and £40k = £40,000\n",
    "\n",
    "**Examples**\n",
    "\n",
    "add_bill(\"d20,p40,p60,d50\") ➞ 20 + 50 = 70\n",
    "\n",
    "add_bill(\"p30,d20,p60,d150,p360\") ➞ 20 + 150 = 170\n",
    "\n",
    "add_bill(\"p30,d2k,p60,d200,p360\") ➞ 2 * 1000 + 200 = 2200"
   ]
  },
  {
   "cell_type": "code",
   "execution_count": 544,
   "metadata": {},
   "outputs": [
    {
     "name": "stdout",
     "output_type": "stream",
     "text": [
      "2200\n"
     ]
    }
   ],
   "source": [
    "def add_bill(string):\n",
    "    summ = 0\n",
    "    lst = string.split(',')\n",
    "    for i in lst:\n",
    "        if \"k\" in i:\n",
    "            i=i.replace('k',\"\").replace(\"d\",\"\")\n",
    "            summ += int(i)*1000\n",
    "        if 'd' in i:\n",
    "            i=i.replace('d',\"\")\n",
    "            summ += int(i)\n",
    "\n",
    "    print(summ)\n",
    "\n",
    "add_bill(\"p30,d2k,p60,d200,p360\")"
   ]
  },
  {
   "cell_type": "markdown",
   "metadata": {},
   "source": [
    "#### 5. Create a function that flips a horizontal list into a vertical list, and a vertical list into a horizontal list.\n",
    "#### In other words, take an 1 x n list (1 row + n columns) and flip it into a n x 1 list (n rows and 1 column), and vice versa.\n",
    "\n",
    "**Examples**\n",
    "\n",
    "flip_list([1, 2, 3, 4]) ➞ [[1], [2], [3], [4]]\n",
    "<!-- - Take a horizontal list and flip it vertical. -->\n",
    "\n",
    "flip_list([[5], [6], [9]]) ➞ [5, 6, 9]\n",
    "<!-- - Take a vertical list and flip it horizontal. -->\n",
    "\n",
    "flip_list([]) ➞ []"
   ]
  },
  {
   "cell_type": "code",
   "execution_count": 634,
   "metadata": {},
   "outputs": [
    {
     "data": {
      "text/plain": [
       "[[1], [2], [3], [4]]"
      ]
     },
     "execution_count": 634,
     "metadata": {},
     "output_type": "execute_result"
    }
   ],
   "source": [
    "def flip_list(lst):\n",
    "    flag = 0\n",
    "    for i in range(len(lst)):\n",
    "        if type(lst[i]) is list:\n",
    "            lst[i] = lst[i][0]\n",
    "            flag = 1\n",
    "    if flag==1:\n",
    "        return lst\n",
    "    for i in range(len(lst)):        \n",
    "        if type(lst[i]) is int:\n",
    "            lst[i] = [lst[i]]\n",
    "    return lst\n",
    "\n",
    "flip_list([1, 2, 3, 4])\n",
    "# flip_list([[1], [2], [3], [4]])\n",
    "# flip_list([])"
   ]
  },
  {
   "cell_type": "markdown",
   "metadata": {
    "jp-MarkdownHeadingCollapsed": true,
    "tags": []
   },
   "source": [
    "## 14\n",
    "https://drive.google.com/file/d/1vhLQa4muZe5-lV5RLp8t-zw0q2_8PUhM/view"
   ]
  },
  {
   "cell_type": "markdown",
   "metadata": {},
   "source": [
    "2:18 pm"
   ]
  },
  {
   "cell_type": "code",
   "execution_count": 701,
   "metadata": {},
   "outputs": [
    {
     "data": {
      "text/plain": [
       "[12.0, 14.5, 7.5]"
      ]
     },
     "execution_count": 701,
     "metadata": {},
     "output_type": "execute_result"
    }
   ],
   "source": [
    "def show_the_love(lst):\n",
    "    minim = min(lst)\n",
    "    minim_index = lst.index(minim)\n",
    "    for i in range(len(lst)):\n",
    "        if lst[i] != minim:\n",
    "            a = lst[i]\n",
    "            lst[i] = 0.75 * lst[i]\n",
    "            lst[minim_index] += a-lst[i]\n",
    "    return lst\n",
    "            \n",
    "show_the_love([16,8,10])"
   ]
  },
  {
   "cell_type": "code",
   "execution_count": 788,
   "metadata": {},
   "outputs": [
    {
     "name": "stdout",
     "output_type": "stream",
     "text": [
      "['aps', 'hr', 'o']\n"
     ]
    }
   ],
   "source": [
    "# def letters(a,b):\n",
    "#     common, first, second = \"\",\"\",\"\"\n",
    "#     ls = []\n",
    "#     for i in a:\n",
    "#         if i in b:\n",
    "#             common += i\n",
    "#         if not(i in b):\n",
    "#             first += i\n",
    "#     for i in b:\n",
    "#         if not(i in a):\n",
    "#             second += i\n",
    "#     ls.append(common)\n",
    "#     ls.append(first)\n",
    "#     ls.append(second)\n",
    "#     for i in range(len(ls)):\n",
    "#         ls[i] = set(ls[i])\n",
    "#         ls[i]=list(ls[i])\n",
    "#         ls[i].sort()\n",
    "#         ls[i]=\"\".join(ls[i])\n",
    "#     print(ls)\n",
    "\n",
    "def letters(a,b):\n",
    "    a= set(a)\n",
    "    b=set(b)\n",
    "    ls=[]\n",
    "    common=\"\".join(a&b)\n",
    "    first=\"\".join(a-b)\n",
    "    second=\"\".join(b-a)\n",
    "    ls.append(common)\n",
    "    ls.append(first)\n",
    "    ls.append(second)\n",
    "    for i in range(len(ls)):\n",
    "        ls[i] = set(ls[i])\n",
    "        ls[i]=list(ls[i])\n",
    "        ls[i].sort()\n",
    "        ls[i]=\"\".join(ls[i])\n",
    "    print(ls)\n",
    "letters(\"sharp\", \"soap\")\n",
    "# letters(\"board\",\"bored\")\n",
    "# letters(\"happiness\",\"envelop\")\n",
    "# letters(\"kerfuffle\",\"fluffy\")\n",
    "# letters(\"match\",\"ham\")"
   ]
  },
  {
   "cell_type": "code",
   "execution_count": 812,
   "metadata": {},
   "outputs": [
    {
     "data": {
      "text/plain": [
       "[[2, 6], [3, 5], [4, 4]]"
      ]
     },
     "execution_count": 812,
     "metadata": {},
     "output_type": "execute_result"
    }
   ],
   "source": [
    "def pairs(ls):\n",
    "    a = []\n",
    "    d = len(ls)//2\n",
    "    l1=ls[::-1]\n",
    "    first, last = ls[:d], l1[:d]\n",
    "    for i,j in zip(first,last):\n",
    "        a.append([i,j])\n",
    "    if len(ls)%2 != 0:\n",
    "        a.append([ls[d], ls[d]])\n",
    "    return a\n",
    "\n",
    "# pairs([1, 2, 3, 4, 5, 6, 7])\n",
    "# pairs([])\n",
    "pairs([2, 3, 4, 5, 6])"
   ]
  },
  {
   "cell_type": "code",
   "execution_count": 836,
   "metadata": {},
   "outputs": [
    {
     "data": {
      "text/plain": [
       "-1"
      ]
     },
     "execution_count": 836,
     "metadata": {},
     "output_type": "execute_result"
    }
   ],
   "source": [
    "def add_str_nums(a,b):\n",
    "    if not a:\n",
    "        return b\n",
    "    elif a.isdigit():\n",
    "        a=int(a)\n",
    "    elif a.isalpha():\n",
    "        return -1\n",
    "\n",
    "    if not b:\n",
    "        return a\n",
    "    elif b.isdigit():\n",
    "        b=int(b)\n",
    "    elif b.isalpha():\n",
    "        return -1\n",
    "    return a+b\n",
    "    # s = int(a) + int(b)\n",
    "    # return s\n",
    "\n",
    "# add_str_nums(\"4\",\"5\")\n",
    "add_str_nums(\"1\",\"\")\n",
    "add_str_nums(\"sdc\",\"2\")\n",
    "# add_str_nums(\"1874682736267235927359283579235789257\",\"32652983572985729\")"
   ]
  },
  {
   "cell_type": "code",
   "execution_count": 867,
   "metadata": {
    "tags": []
   },
   "outputs": [
    {
     "name": "stdout",
     "output_type": "stream",
     "text": [
      "0 Plaeesh le pemu mnxit ehess rtnisg!\n",
      "2 Pleaesh le pemu mnxit ehess rtnisg!\n",
      "4 Pleaseh le pemu mnxit ehess rtnisg!\n",
      "6 Please hle pemu mnxit ehess rtnisg!\n",
      "8 Please hel pemu mnxit ehess rtnisg!\n",
      "10 Please help emu mnxit ehess rtnisg!\n",
      "12 Please help meu mnxit ehess rtnisg!\n",
      "14 Please help me umnxit ehess rtnisg!\n",
      "16 Please help me unmxit ehess rtnisg!\n",
      "18 Please help me unmixt ehess rtnisg!\n",
      "20 Please help me unmix tehess rtnisg!\n",
      "22 Please help me unmix theess rtnisg!\n",
      "24 Please help me unmix theses rtnisg!\n",
      "26 Please help me unmix these srtnisg!\n",
      "28 Please help me unmix these strnisg!\n",
      "30 Please help me unmix these strinsg!\n",
      "32 Please help me unmix these strings!\n"
     ]
    }
   ],
   "source": [
    "def unmix(string):\n",
    "    lst = list(string)\n",
    "    for i in range(0,len(string)-1, 2):\n",
    "        lst[i], lst[i+1] = lst[i+1], lst[i]\n",
    "        print(i,\"\".join(lst))\n",
    "\n",
    "unmix(\"lPaeesh le pemu mnxit ehess rtnisg!\")\n",
    "# unmix(\"214365\")\n",
    "# unmix(\"hTsii s aimex dpus rtni.g\")"
   ]
  },
  {
   "cell_type": "markdown",
   "metadata": {
    "jp-MarkdownHeadingCollapsed": true,
    "tags": []
   },
   "source": [
    "## 15\n",
    "https://drive.google.com/file/d/1qpoFIZb0PYvLY-kvezkfakQ50EtxAfNd/view"
   ]
  },
  {
   "cell_type": "code",
   "execution_count": 943,
   "metadata": {},
   "outputs": [
    {
     "data": {
      "text/plain": [
       "False"
      ]
     },
     "execution_count": 943,
     "metadata": {},
     "output_type": "execute_result"
    }
   ],
   "source": [
    "# Q1\n",
    "def anagram(string, lst):\n",
    "    string=string.lower()\n",
    "    for i in lst:\n",
    "        for char in i:\n",
    "            if char  in string:\n",
    "                string=string.replace(char,\"\",1)\n",
    "            else:\n",
    "                return False\n",
    "    if not string.split():\n",
    "        return True\n",
    "    else:\n",
    "        return False\n",
    "        \n",
    "# anagram(\"Justin Bieber\", [\"injures\", \"ebb\", \"it\"])\n",
    "# anagram(\"Natalie Portman\", [\"ornamental\", \"pita\"])\n",
    "# anagram(\"Chris Pratt\", [\"chirps\", \"rat\"])\n",
    "anagram(\"Jeff Goldblum\", [\"jog\", \"meld\", \"bluffs\"])"
   ]
  },
  {
   "cell_type": "code",
   "execution_count": 964,
   "metadata": {},
   "outputs": [
    {
     "ename": "IndexError",
     "evalue": "list index out of range",
     "output_type": "error",
     "traceback": [
      "\u001b[0;31m---------------------------------------------------------------------------\u001b[0m",
      "\u001b[0;31mIndexError\u001b[0m                                Traceback (most recent call last)",
      "\u001b[0;32m<ipython-input-964-ca7b7570ce20>\u001b[0m in \u001b[0;36m<module>\u001b[0;34m\u001b[0m\n\u001b[1;32m     19\u001b[0m             \u001b[0;31m# lst.insert(i,lst[i])\u001b[0m\u001b[0;34m\u001b[0m\u001b[0;34m\u001b[0m\u001b[0;34m\u001b[0m\u001b[0m\n\u001b[1;32m     20\u001b[0m     \u001b[0;32mreturn\u001b[0m \u001b[0mlst\u001b[0m\u001b[0;34m\u001b[0m\u001b[0;34m\u001b[0m\u001b[0m\n\u001b[0;32m---> 21\u001b[0;31m leaderboards([\n\u001b[0m\u001b[1;32m     22\u001b[0m     \u001b[0;34m{\u001b[0m\u001b[0;34m\"name\"\u001b[0m\u001b[0;34m:\u001b[0m\u001b[0;34m\"a\"\u001b[0m\u001b[0;34m,\u001b[0m\u001b[0;34m\"score\"\u001b[0m\u001b[0;34m:\u001b[0m\u001b[0;36m100\u001b[0m\u001b[0;34m,\u001b[0m\u001b[0;34m\"reputation\"\u001b[0m\u001b[0;34m:\u001b[0m\u001b[0;36m20\u001b[0m\u001b[0;34m}\u001b[0m\u001b[0;34m,\u001b[0m\u001b[0;34m\u001b[0m\u001b[0;34m\u001b[0m\u001b[0m\n\u001b[1;32m     23\u001b[0m     \u001b[0;34m{\u001b[0m\u001b[0;34m\"name\"\u001b[0m\u001b[0;34m:\u001b[0m\u001b[0;34m\"b\"\u001b[0m\u001b[0;34m,\u001b[0m\u001b[0;34m\"score\"\u001b[0m\u001b[0;34m:\u001b[0m\u001b[0;36m90\u001b[0m\u001b[0;34m,\u001b[0m\u001b[0;34m\"reputation\"\u001b[0m\u001b[0;34m:\u001b[0m\u001b[0;36m40\u001b[0m\u001b[0;34m}\u001b[0m\u001b[0;34m,\u001b[0m\u001b[0;34m\u001b[0m\u001b[0;34m\u001b[0m\u001b[0m\n",
      "\u001b[0;32m<ipython-input-964-ca7b7570ce20>\u001b[0m in \u001b[0;36mleaderboards\u001b[0;34m(lst)\u001b[0m\n\u001b[1;32m      9\u001b[0m         \u001b[0;32mif\u001b[0m \u001b[0mmaxm\u001b[0m \u001b[0;34m<\u001b[0m \u001b[0mrep_score\u001b[0m\u001b[0;34m:\u001b[0m\u001b[0;34m\u001b[0m\u001b[0;34m\u001b[0m\u001b[0m\n\u001b[1;32m     10\u001b[0m             \u001b[0;31m# maxmx=rep_score\u001b[0m\u001b[0;34m\u001b[0m\u001b[0;34m\u001b[0m\u001b[0;34m\u001b[0m\u001b[0m\n\u001b[0;32m---> 11\u001b[0;31m             \u001b[0mlst\u001b[0m\u001b[0;34m[\u001b[0m\u001b[0mi\u001b[0m\u001b[0;34m]\u001b[0m\u001b[0;34m,\u001b[0m \u001b[0mlst\u001b[0m\u001b[0;34m[\u001b[0m\u001b[0mi\u001b[0m\u001b[0;34m+\u001b[0m\u001b[0;36m1\u001b[0m\u001b[0;34m]\u001b[0m \u001b[0;34m=\u001b[0m \u001b[0mlst\u001b[0m\u001b[0;34m[\u001b[0m\u001b[0mi\u001b[0m\u001b[0;34m+\u001b[0m\u001b[0;36m1\u001b[0m\u001b[0;34m]\u001b[0m\u001b[0;34m,\u001b[0m \u001b[0mlst\u001b[0m\u001b[0;34m[\u001b[0m\u001b[0mi\u001b[0m\u001b[0;34m]\u001b[0m\u001b[0;34m\u001b[0m\u001b[0;34m\u001b[0m\u001b[0m\n\u001b[0m\u001b[1;32m     12\u001b[0m \u001b[0;34m\u001b[0m\u001b[0m\n\u001b[1;32m     13\u001b[0m     \u001b[0;31m# print(rep_score)\u001b[0m\u001b[0;34m\u001b[0m\u001b[0;34m\u001b[0m\u001b[0;34m\u001b[0m\u001b[0m\n",
      "\u001b[0;31mIndexError\u001b[0m: list index out of range"
     ]
    }
   ],
   "source": [
    "# Q2\n",
    "def leaderboards(lst):\n",
    "    maxm=140\n",
    "    rep_score=[]\n",
    "    # for d in lst:\n",
    "    for i in range(3):\n",
    "        # rep_score.append(2*d['reputation'] + d['score'])\n",
    "        \n",
    "        rep_score=2*lst[i]['reputation'] + lst[i]['score']\n",
    "        if maxm < rep_score:\n",
    "            # maxmx=rep_score\n",
    "            lst[i], lst[i+1] = lst[i+1], lst[i]\n",
    "            \n",
    "    # print(rep_score)\n",
    "    # rep_score.sort(reverse=True)\n",
    "    # print(rep_score)\n",
    "    # for i in range(3):\n",
    "        # if rep_score[i] == lst[i]['reputation']:\n",
    "        #     print(lst[i])\n",
    "            # lst.insert(i,lst[i])\n",
    "    return lst\n",
    "leaderboards([\n",
    "    {\"name\":\"a\",\"score\":100,\"reputation\":20},\n",
    "    {\"name\":\"b\",\"score\":90,\"reputation\":40},\n",
    "    {\"name\":\"c\",\"score\":115,\"reputation\":30},\n",
    "])"
   ]
  },
  {
   "cell_type": "code",
   "execution_count": 1003,
   "metadata": {},
   "outputs": [
    {
     "name": "stdout",
     "output_type": "stream",
     "text": [
      "-e'- a -e-y -a----y --y!\n"
     ]
    }
   ],
   "source": [
    "# Q3\n",
    "def hangman(string, ls):\n",
    "    for i in string:\n",
    "        if i.isalpha():\n",
    "            if i not in ls:\n",
    "                string=string.replace(i,\"-\")\n",
    "    print(string)\n",
    "\n",
    "# hangman(\"helicopter\",[\"o\",\"e\",\"s\"])\n",
    "# hangman(\"tree\",[\"t\",\"r\",\"e\"])\n",
    "hangman(\"He's a very naughty boy!\",[\"a\",\"y\",\"e\"])"
   ]
  },
  {
   "cell_type": "code",
   "execution_count": 1012,
   "metadata": {},
   "outputs": [
    {
     "data": {
      "text/plain": [
       "256"
      ]
     },
     "execution_count": 1012,
     "metadata": {},
     "output_type": "execute_result"
    }
   ],
   "source": [
    "# Q4\n",
    "def max_collatz(n):\n",
    "    maxm=n\n",
    "    while n>1:\n",
    "        n= n//2 if n%2==0 else n*3+1\n",
    "        if n > maxm:\n",
    "            maxm=n\n",
    "    return maxm\n",
    "\n",
    "max_collatz(85)"
   ]
  },
  {
   "cell_type": "code",
   "execution_count": 1062,
   "metadata": {},
   "outputs": [
    {
     "name": "stdout",
     "output_type": "stream",
     "text": [
      "[53219, 3772, 564, 32, 1]\n"
     ]
    }
   ],
   "source": [
    "# Q5\n",
    "def digit_sort(ls):\n",
    "    ls.sort()\n",
    "    max_length = len(str(ls[-1]))\n",
    "    k = []\n",
    "    for i in range(max_length,0,-1):\n",
    "        l = [str(n) for n in ls if i==len(str(n))]\n",
    "        l.sort()\n",
    "        for i in l:\n",
    "            k.append(eval(i))\n",
    "    print(k)\n",
    "            \n",
    "\n",
    "# digit_sort([77, 23, 5, 7, 101])\n",
    "digit_sort([53219, 3772, 564, 32, 1])\n",
    "# digit_sort([1, 5, 9, 2, 789, 563, 444,1])"
   ]
  },
  {
   "cell_type": "markdown",
   "metadata": {
    "jp-MarkdownHeadingCollapsed": true,
    "tags": []
   },
   "source": [
    "## 16\n",
    "https://drive.google.com/file/d/1ce4CpZbn4peARFhqD27yDgcsN1wFw5l8/view"
   ]
  },
  {
   "cell_type": "code",
   "execution_count": 1088,
   "metadata": {},
   "outputs": [
    {
     "data": {
      "text/plain": [
       "True"
      ]
     },
     "execution_count": 1088,
     "metadata": {},
     "output_type": "execute_result"
    }
   ],
   "source": [
    "# Q1\n",
    "def valid_rondo(string):\n",
    "    if len(string)<=1:\n",
    "        return False\n",
    "    if string[0] and string[-1]!= \"A\":\n",
    "        return False\n",
    "    for i,char in zip(range(1,len(string),2), range(66,96)):\n",
    "        if string[i] != chr(char):\n",
    "            return False\n",
    "    return True\n",
    "    \n",
    "valid_rondo(\"ABACADAEAFAGAHAIAJA\")\n",
    "# valid_rondo(\"ABA\")\n",
    "# valid_rondo(\"ABBACCA\")\n",
    "# valid_rondo(\"A\")"
   ]
  },
  {
   "cell_type": "code",
   "execution_count": 1111,
   "metadata": {},
   "outputs": [
    {
     "data": {
      "text/plain": [
       "' I have a mat.'"
      ]
     },
     "execution_count": 1111,
     "metadata": {},
     "output_type": "execute_result"
    }
   ],
   "source": [
    "# Q2\n",
    "def sentence_searcher(text, keyword):\n",
    "    text= text.split(\".\")\n",
    "    keyword=keyword.lower()\n",
    "    for i in text:\n",
    "        if keyword in i:\n",
    "            return (i+\".\")\n",
    "    return \"\"\n",
    "\n",
    "\n",
    "txt = \"I have a cat. I have a mat. Things are going swell.\"\n",
    "sentence_searcher(txt, \"MAT\")"
   ]
  },
  {
   "cell_type": "code",
   "execution_count": 1127,
   "metadata": {},
   "outputs": [
    {
     "data": {
      "text/plain": [
       "'10 200 4000 50000 '"
      ]
     },
     "execution_count": 1127,
     "metadata": {},
     "output_type": "execute_result"
    }
   ],
   "source": [
    "# Q3\n",
    "def sum_round(n):\n",
    "    i=0\n",
    "    ls=\"\"\n",
    "    while n!=0:\n",
    "        num = n%10\n",
    "        if num!=0:\n",
    "            ls += str(num * 10**i) + \" \"\n",
    "        n=n//10\n",
    "        i=i+1\n",
    "    return ls\n",
    "\n",
    "# sum_round(101)\n",
    "# sum_round(1234)\n",
    "sum_round(54210)"
   ]
  },
  {
   "cell_type": "markdown",
   "metadata": {},
   "source": [
    "#### 4. Your task, is to create N x N multiplication table, of size n provided in parameter.\n",
    "\n",
    "**For example, when n is 5, the multiplication table is:**\n",
    "\n",
    "- 1, 2, 3, 4, 5\n",
    "- 2, 4, 6, 8, 10\n",
    "- 3, 6, 9, 12, 15\n",
    "- 4, 8, 12, 16, 20\n",
    "- 5, 10, 15, 20, 25\n",
    "\n",
    "This example will result in:\n",
    "\n",
    "[[1, 2, 3, 4, 5], [2, 4, 6, 8, 10], [3, 6, 9, 12, 15], [4, 8, 12, 16, 20], [5, 10, 15, 20,\n",
    "25]]\n",
    "\n",
    "**Examples**\n",
    "\n",
    "multiplication_table(1) ➞ [[1]]\n",
    "\n",
    "multiplication_table(3) ➞ [[1, 2, 3], [2, 4, 6], [3, 6, 9]]"
   ]
  },
  {
   "cell_type": "code",
   "execution_count": 1135,
   "metadata": {},
   "outputs": [
    {
     "name": "stdout",
     "output_type": "stream",
     "text": [
      "[[1, 2, 3], [2, 4, 6], [3, 6, 9]]\n"
     ]
    }
   ],
   "source": [
    "#  Q4\n",
    "def multiplication_table(n):\n",
    "    ls=[]\n",
    "    for i in range(1,n+1):\n",
    "        ls.append([i*k for k in range(1,n+1)])\n",
    "    print(ls)\n",
    "\n",
    "\n",
    "multiplication_table(3)"
   ]
  },
  {
   "cell_type": "code",
   "execution_count": 1154,
   "metadata": {},
   "outputs": [
    {
     "data": {
      "text/plain": [
       "False"
      ]
     },
     "execution_count": 1154,
     "metadata": {},
     "output_type": "execute_result"
    }
   ],
   "source": [
    "# Q5\n",
    "def does_rhyme(a,b):\n",
    "    a1 = a.split(\" \")[-1].lower()\n",
    "    b1 = b.split(\" \")[-1].lower()    \n",
    "    vowels = \"aeoui\"\n",
    "    for i in a1:\n",
    "        if i not in vowels:\n",
    "            a1=a1.replace(i,\"\")\n",
    "    for i in b1:\n",
    "        if i not in vowels:\n",
    "            b1=b1.replace(i,\"\")\n",
    "    for i in a1:\n",
    "        if i in vowels:\n",
    "            if i in b1:\n",
    "                b1=b1.replace(i,\"\")\n",
    "    if b1:\n",
    "        return False\n",
    "\n",
    "does_rhyme(\"Sam I am!\", \"Green eggs and haem.\")"
   ]
  },
  {
   "cell_type": "markdown",
   "metadata": {
    "jp-MarkdownHeadingCollapsed": true,
    "tags": []
   },
   "source": [
    "## 17\n",
    "https://drive.google.com/file/d/1XUy9KLblzJjU3iJPXAiIzz-s6AFOfGd1/view"
   ]
  },
  {
   "cell_type": "markdown",
   "metadata": {
    "tags": []
   },
   "source": [
    "#### 1. Create a function that transposes a 2D matrix.\n",
    "\n",
    "Examples\n",
    "\n",
    "transpose_matrix([\n",
    "[1, 1, 1],\n",
    "[2, 2, 2],\n",
    "[3, 3, 3]\n",
    "]) ➞ [\n",
    "[1, 2, 3],\n",
    "[1, 2, 3],\n",
    "[1, 2, 3]\n",
    "]"
   ]
  },
  {
   "cell_type": "code",
   "execution_count": 1169,
   "metadata": {},
   "outputs": [
    {
     "name": "stdout",
     "output_type": "stream",
     "text": [
      "[[5, 6, 9], [5, 7, 1]]\n"
     ]
    }
   ],
   "source": [
    "# Q1\n",
    "def transpose_matrix(ls):\n",
    "    m=[]\n",
    "    for i in range(len(ls[0])):\n",
    "        k=[]\n",
    "        for l in ls:\n",
    "            k.append(l[i])\n",
    "        m.append(k)\n",
    "        \n",
    "    print(m)\n",
    "    \n",
    "# transpose_matrix([ [1, 1, 1], [2, 2, 2], [3, 3, 3] ])\n",
    "transpose_matrix([[5, 5],[6, 7],[9, 1]])"
   ]
  },
  {
   "cell_type": "code",
   "execution_count": 1207,
   "metadata": {},
   "outputs": [
    {
     "data": {
      "text/plain": [
       "False"
      ]
     },
     "execution_count": 1207,
     "metadata": {},
     "output_type": "execute_result"
    }
   ],
   "source": [
    "# Q2\n",
    "def is_valid_hex_code(string):\n",
    "    if string[0] != \"#\" or len(string)>7:\n",
    "        return False\n",
    "    for i in string[1:]:\n",
    "        if not (ord(i) in range(48,58) or ord(i) in range(97,103) or ord(i) in range(65,70) ):\n",
    "            return False\n",
    "    return True\n",
    "\n",
    "# is_valid_hex_code(\"#CD5C5C\")\n",
    "# is_valid_hex_code(\"#eaecee\")\n",
    "# is_valid_hex_code(\"#CD5C58C\")\n",
    "# is_valid_hex_code(\"#CD5C5Z\")\n",
    "is_valid_hex_code(\"#CD5C&C\")"
   ]
  },
  {
   "cell_type": "code",
   "execution_count": 1282,
   "metadata": {},
   "outputs": [
    {
     "name": "stdout",
     "output_type": "stream",
     "text": [
      "75%\n"
     ]
    }
   ],
   "source": [
    "# Q3\n",
    "def mark_maths(ls):\n",
    "    count =0\n",
    "    for st in ls:\n",
    "        nums,index_list=[],[]\n",
    "        c=0\n",
    "        for i in st:\n",
    "            if not i.isnumeric():\n",
    "                c +=  1\n",
    "                index = st.index(i)\n",
    "                index_list.append(index)\n",
    "                if c==1:\n",
    "                    nums.append(st[:index] )\n",
    "                    prev =index\n",
    "                if c==2:\n",
    "                    nums.append(st[prev+1:index])\n",
    "                    nums.append(st[index+1:])\n",
    "        nums = [int(k) for k in nums]\n",
    "        if st[index_list[0]] ==\"+\":\n",
    "            if nums[0] + nums[1] == nums[2]:\n",
    "                count += 1\n",
    "        if st[index_list[0]] ==\"-\":\n",
    "            if nums[0] - nums[1] == nums[2]:\n",
    "                count += 1\n",
    "    print(str(int(100*count/len(ls)))+\"%\")\n",
    "\n",
    "mark_maths([\"2+2=4\", \"3+2=5\", \"10-3=3\", \"5+5=10\"])"
   ]
  },
  {
   "cell_type": "code",
   "execution_count": 1298,
   "metadata": {},
   "outputs": [
    {
     "data": {
      "text/plain": [
       "False"
      ]
     },
     "execution_count": 1298,
     "metadata": {},
     "output_type": "execute_result"
    }
   ],
   "source": [
    "# Q4\n",
    "def magic_square_game(a,b):\n",
    "    if a[1][b[0]-1] == b[1][a[0]-1]:\n",
    "        return True\n",
    "    return False\n",
    "    \n",
    "# magic_square_game(\n",
    "#     [2,\"001\"],\n",
    "#     [1,\"101\"]\n",
    "# )\n",
    "# magic_square_game([3, \"111\"], [2, \"011\"])\n",
    "# magic_square_game([2, \"100\"], [1, \"101\"])\n",
    "magic_square_game([1, \"010\"], [3, \"101\"])"
   ]
  },
  {
   "cell_type": "code",
   "execution_count": 1356,
   "metadata": {},
   "outputs": [
    {
     "data": {
      "text/plain": [
       "'0hr 38min 34s'"
      ]
     },
     "execution_count": 1356,
     "metadata": {},
     "output_type": "execute_result"
    }
   ],
   "source": [
    "# Q5\n",
    "import math\n",
    "def lets_meet(km, va, vb):\n",
    "    time = km/(va+vb)    \n",
    "    t = math.modf(time)\n",
    "    s = \"\"\n",
    "    if t[1] >= 1:\n",
    "        s += str(int(t[1]))+\"hr \"\n",
    "    else:\n",
    "        s += \"0hr \"\n",
    "    t_mins = math.modf(t[0] * 60)\n",
    "    if t_mins[1] >= 1:\n",
    "        s += str(int(t_mins[1]))+\"min \"\n",
    "    else:\n",
    "        s += \"0min \"\n",
    "    s += str(int(t_mins[0] * 60)) +\"s \"\n",
    "    return s.rstrip()\n",
    "\n",
    "# lets_meet(1000, 10, 30)\n",
    "lets_meet(90,75,65)\n",
    "# lets_meet(280, 70, 80)"
   ]
  },
  {
   "cell_type": "markdown",
   "metadata": {
    "jp-MarkdownHeadingCollapsed": true,
    "tags": []
   },
   "source": [
    "## 18\n",
    "https://drive.google.com/file/d/1d4BJ6mIUlLn-1D0HUJ0YXUQTjVzjSUzA/view"
   ]
  },
  {
   "cell_type": "markdown",
   "metadata": {},
   "source": [
    "#### 1. A robot has been given a list of movement instructions. Each instruction is either left, right, up or down, followed by a distance to move. The robot starts at [0, 0]. You want to calculate where the robot will end up and return its final position as a list.\n",
    "\n",
    "To illustrate, if the robot is given the following instructions:\n",
    "- [\"right 10\", \"up 50\", \"left 30\", \"down 10\"]\n",
    "\n",
    "It will end up 20 left and 40 up from where it started, so we return [-20, 40].\n",
    "\n",
    "**Examples**\n",
    "\n",
    "track_robot([\"right 10\", \"up 50\", \"left 30\", \"down 10\"]) ➞ [-20, 40]\n",
    "\n",
    "track_robot([]) ➞ [0, 0]\n",
    "\n",
    "// If there are no instructions, the robot doesn&#39;t move.\n",
    "\n",
    "track_robot([right 100, \"right 100\", \"up 500\", \"up 10000\"]) ➞ [200, 10500]"
   ]
  },
  {
   "cell_type": "code",
   "execution_count": 1384,
   "metadata": {},
   "outputs": [
    {
     "data": {
      "text/plain": [
       "[0, 40]"
      ]
     },
     "execution_count": 1384,
     "metadata": {},
     "output_type": "execute_result"
    }
   ],
   "source": [
    "def track_robot(ls):\n",
    "    right,left,up,down=0,0,0,0\n",
    "    if not ls:\n",
    "        return [0,0]\n",
    "    for i in ls:\n",
    "        if \"right\" in i:\n",
    "            right += int(i.split(\" \")[1])\n",
    "        if \"left\" in i:\n",
    "            left += int(i.split(\" \")[1])\n",
    "        if \"up\" in i:\n",
    "            up += int(i.split(\" \")[1])\n",
    "        if \"down\" in i:\n",
    "            down += int(i.split(\" \")[1])\n",
    "   \n",
    "    final_pos = [right-left, up-down]\n",
    "    return final_pos\n",
    "    \n",
    "\n",
    "# track_robot([\"right 10\", \"up 50\", \"left 30\", \"down 10\"])\n",
    "# track_robot([])\n",
    "# track_robot([\"right 100\", \"right 100\", \"up 500\", \"up 10000\"])\n",
    "track_robot([\"right 10\", \"up 50\", \"left 30\", \"down 10\", \"right 20\"])\n"
   ]
  },
  {
   "cell_type": "markdown",
   "metadata": {},
   "source": [
    "#### 2. Write a function that will return the longest word in a sentence. In cases where more than one word is found, return the first one.\n",
    "\n",
    "**Examples**\n",
    "\n",
    "find_longest(\"A thing of beauty is a joy forever.\") ➞ \"forever\"\n",
    "\n",
    "find_longest(\"Forgetfulness is by all means powerless!\") ➞ \"forgetfulness\"\n",
    "\n",
    "find_longest(\"'\\ Strengths\\ ' is the longest and most commonly used word that contains only a single vowel.\") ➞ \"strengths\""
   ]
  },
  {
   "cell_type": "code",
   "execution_count": 1416,
   "metadata": {},
   "outputs": [
    {
     "data": {
      "text/plain": [
       "'Strengths'"
      ]
     },
     "execution_count": 1416,
     "metadata": {},
     "output_type": "execute_result"
    }
   ],
   "source": [
    "def find_longest(string):\n",
    "    ls = string.split(\" \")\n",
    "    count = [len(i) for i in ls]\n",
    "    pos = count.index(max(count))\n",
    "    \n",
    "    return ls[pos]\n",
    "    \n",
    "# find_longest(\"Forgetfulness is by all means powerless!\")\n",
    "# find_longest(\"A thing of beauty is a joy forever.\")\n",
    "find_longest(\"'\\ Strengths \\' is the longest and most commonly used word that contains only a single vowel.\")"
   ]
  },
  {
   "cell_type": "code",
   "execution_count": 1432,
   "metadata": {},
   "outputs": [
    {
     "data": {
      "text/plain": [
       "'Disqualified'"
      ]
     },
     "execution_count": 1432,
     "metadata": {},
     "output_type": "execute_result"
    }
   ],
   "source": [
    "# Q3\n",
    "def interview(time_ls, n):\n",
    "    levels = [\"very easy\", \"very easy\", \"easy\", \"easy\", \"medium\", \"medium\", \"hard\", \"hard\"]\n",
    "    t_VEasy=5\n",
    "    t_Easy=10\n",
    "    t_Medium=15\n",
    "    t_Hard=20\n",
    "    max_time=120\n",
    "    if n>max_time or len(time_ls)<len(levels):\n",
    "        return \"Disqualified\"\n",
    "    for time,level in zip(time_ls,levels):\n",
    "        if level == \"very easy\":\n",
    "            if time>t_VEasy:\n",
    "                return \"Disqualified\"\n",
    "        if level == \"easy\":\n",
    "            if time>t_Easy:\n",
    "                return \"Disqualified\"\n",
    "        if level == \"medium\":\n",
    "            if time>t_Medium:\n",
    "                return \"Disqualified\"\n",
    "        if level == \"hard\":\n",
    "            if time>t_Hard:\n",
    "                return \"Disqualified\"\n",
    "    return \"qualified\"\n",
    "    \n",
    "\n",
    "# interview([5, 5, 10, 10, 15, 15, 20, 20], 120)\n",
    "# interview([2, 3, 8, 6, 5, 12, 10, 18], 64)\n",
    "# interview([5, 5, 10, 10, 25, 15, 20, 20], 120)\n",
    "interview([5, 5, 10, 10, 15, 15, 20], 120)\n",
    "interview([5, 5, 10, 10, 15, 15, 20, 20], 130)"
   ]
  },
  {
   "cell_type": "markdown",
   "metadata": {},
   "source": [
    "#### 4. Write a function that divides a list into chunks of size n, where n is the length of each chunk.\n",
    "\n",
    "**Examples**\n",
    "\n",
    "chunkify([2, 3, 4, 5], 2) ➞ [[2, 3], [4, 5]]\n",
    "\n",
    "chunkify([2, 3, 4, 5, 6], 2) ➞ [[2, 3], [4, 5], [6]]\n",
    "\n",
    "chunkify([2, 3, 4, 5, 6, 7], 3) ➞ [[2, 3, 4], [5, 6, 7]]\n",
    "\n",
    "chunkify([2, 3, 4, 5, 6, 7], 1) ➞ [[2], [3], [4], [5], [6], [7]]\n",
    "\n",
    "chunkify([2, 3, 4, 5, 6, 7], 7) ➞ [[2, 3, 4, 5, 6, 7]]"
   ]
  },
  {
   "cell_type": "code",
   "execution_count": 1470,
   "metadata": {},
   "outputs": [
    {
     "name": "stdout",
     "output_type": "stream",
     "text": [
      "[[2, 3, 4, 5, 6, 7]]\n"
     ]
    }
   ],
   "source": [
    "def chunkify(ls, n):\n",
    "    k=[]\n",
    "    i=0\n",
    "    while i<len(ls):\n",
    "        l=[]\n",
    "        count = 1 if len(ls)-i==1 else n\n",
    "        while count>0:\n",
    "            if i==len(ls):\n",
    "                break\n",
    "            l.append(ls[i])\n",
    "            count -= 1\n",
    "            i+=1\n",
    "        k.append(l)\n",
    "    print(k)\n",
    "\n",
    "\n",
    "# chunkify([2, 3, 4, 5], 2) \n",
    "# chunkify([2, 3, 4, 5, 6], 2)\n",
    "# chunkify([2, 3, 4, 5, 6, 7], 3)\n",
    "# chunkify([2, 3, 4, 5, 6, 7], 1)\n",
    "chunkify([2, 3, 4, 5, 6, 7], 7)   # it has less than 7 elements"
   ]
  },
  {
   "cell_type": "code",
   "execution_count": 9,
   "metadata": {},
   "outputs": [
    {
     "data": {
      "text/plain": [
       "['1.99', '5.99', '0.75']"
      ]
     },
     "execution_count": 9,
     "metadata": {},
     "output_type": "execute_result"
    }
   ],
   "source": [
    "# Q5\n",
    "def get_prices(ls):\n",
    "    l=[]\n",
    "    for i in ls:\n",
    "        dol=i.find(\"$\")\n",
    "        cols_par = i.find(\")\")\n",
    "        l.append(i[dol+1:cols_par])\n",
    "    return l\n",
    "\n",
    "# get_prices([\"salad ($4.99)\"])\n",
    "get_prices([\n",
    "\"artichokes ($1.99)\",\n",
    "\"rotiserrie chicken ($5.99)\",\n",
    "\"gum ($0.75)\"\n",
    "])"
   ]
  },
  {
   "cell_type": "markdown",
   "metadata": {
    "jp-MarkdownHeadingCollapsed": true,
    "tags": []
   },
   "source": [
    "## 19\n",
    "https://drive.google.com/file/d/1A-73wEb5IjbtOGZdalAQVNFOa5NPPZm0/view"
   ]
  },
  {
   "cell_type": "markdown",
   "metadata": {},
   "source": [
    "#### 1. Create a checker board generator, which takes as inputs n and 2 elements to generate an n x n checkerboard with those two elements as alternating squares.\n",
    "\n",
    "**Examples**\n",
    "\n",
    "checker_board(2, 7, 6) ➞ [\n",
    "[7, 6],\n",
    "[6, 7]\n",
    "]"
   ]
  },
  {
   "cell_type": "code",
   "execution_count": 28,
   "metadata": {},
   "outputs": [
    {
     "data": {
      "text/plain": [
       "[['c', 'd', 'c', 'd'],\n",
       " ['d', 'c', 'd', 'c'],\n",
       " ['c', 'd', 'c', 'd'],\n",
       " ['d', 'c', 'd', 'c']]"
      ]
     },
     "execution_count": 28,
     "metadata": {},
     "output_type": "execute_result"
    }
   ],
   "source": [
    "# Q1\n",
    "def checker_board(n, a, b):\n",
    "    l=[]\n",
    "    for i in range(n):\n",
    "        k=[]\n",
    "        for j in range(n):\n",
    "            if (i+j)%2==0:\n",
    "                k.append(a)\n",
    "            else:\n",
    "                k.append(b)\n",
    "        l.append(k)\n",
    "    return l\n",
    "\n",
    "\n",
    "# checker_board(2, 7, 6)\n",
    "checker_board(3,\"A\",\"B\")\n",
    "checker_board(4,\"c\",\"d\")"
   ]
  },
  {
   "cell_type": "code",
   "execution_count": 40,
   "metadata": {},
   "outputs": [
    {
     "data": {
      "text/plain": [
       "False"
      ]
     },
     "execution_count": 40,
     "metadata": {},
     "output_type": "execute_result"
    }
   ],
   "source": [
    "# Q2\n",
    "def almost_palindrome(string):\n",
    "    c=0\n",
    "    for i,j in zip(string, string[::-1]):\n",
    "        if i!=j:\n",
    "            c +=1\n",
    "    return True if c//2==1 else False\n",
    "\n",
    "# almost_palindrome(\"abcdcbg\")\n",
    "# almost_palindrome(\"abccia\")\n",
    "# almost_palindrome(\"abcdaaa\")\n",
    "almost_palindrome(\"1234312\")"
   ]
  },
  {
   "cell_type": "code",
   "execution_count": 53,
   "metadata": {},
   "outputs": [
    {
     "data": {
      "text/plain": [
       "4"
      ]
     },
     "execution_count": 53,
     "metadata": {},
     "output_type": "execute_result"
    }
   ],
   "source": [
    "# Q3\n",
    "def prime_numbers(n):\n",
    "    count=0\n",
    "    for i in range(2,n+1):   # range will start with 1 for approach 1\n",
    "        c=0\n",
    "        # for j in range(1,i):\n",
    "        #     if i%j==0:\n",
    "        #         c+=1\n",
    "        # if c==1:\n",
    "        #     count+=1\n",
    "        for j in range(2,i):\n",
    "            if i%j==0:\n",
    "                break\n",
    "        else:\n",
    "            count+=1\n",
    "    return count\n",
    "        \n",
    "\n",
    "prime_numbers(10)"
   ]
  },
  {
   "cell_type": "code",
   "execution_count": 77,
   "metadata": {},
   "outputs": [
    {
     "data": {
      "text/plain": [
       "['Tuesday', 'Wednesday', 'Saturday']"
      ]
     },
     "execution_count": 77,
     "metadata": {},
     "output_type": "execute_result"
    }
   ],
   "source": [
    "# Q4\n",
    "def after_n_days(ls, num):\n",
    "    days = [\"Monday\", \"Tuesday\", \"Wednesday\", \"Thursday\", \"Friday\", \"Saturday\", \"Sunday\"]\n",
    "    l=[]\n",
    "    for i in (ls):\n",
    "        n = (days.index(i) + num) % 7\n",
    "        l.append(days[n])\n",
    "    return l\n",
    "\n",
    "# after_n_days([\"Thursday\", \"Monday\"], 4)\n",
    "# after_n_days([\"Sunday\", \"Sunday\", \"Sunday\"], 1)\n",
    "after_n_days([\"Monday\", \"Tuesday\", \"Friday\"], 1)"
   ]
  },
  {
   "cell_type": "code",
   "execution_count": 87,
   "metadata": {},
   "outputs": [
    {
     "data": {
      "text/plain": [
       "True"
      ]
     },
     "execution_count": 87,
     "metadata": {},
     "output_type": "execute_result"
    }
   ],
   "source": [
    "# Q5\n",
    "def is_correct_aliases(a, b):\n",
    "    for i,j in zip(a,b):\n",
    "        annoy_names = j.split(\" \")\n",
    "        if annoy_names[0][0] != annoy_names[1][0]:\n",
    "            return False\n",
    "        if i[0] != annoy_names[0][0]:\n",
    "            return False\n",
    "        return True\n",
    "\n",
    "# is_correct_aliases([\"Adrian M.\", \"Harriet S.\", \"Mandy T.\"], [\"Amazing Artichoke\", \"Hopeful Hedgehog\", \"Marvelous Mouse\"])\n",
    "is_correct_aliases([\"Rachel F.\", \"Pam G.\", \"Fred Z.\", \"Nancy K.\"],[\"Reassuring Rat\", \"Peaceful Panda\", \"Fantastic Frog\", \"Notable Nickel\"])\n",
    "# is_correct_aliases([\"Beth T.\"], [\"Brandishing Mimosa\"])"
   ]
  },
  {
   "cell_type": "markdown",
   "metadata": {},
   "source": [
    "## 20\n",
    "https://drive.google.com/file/d/1nrebqhgJkPHnEw3SsrgCQ_an06TuHnoK/view"
   ]
  },
  {
   "cell_type": "markdown",
   "metadata": {},
   "source": [
    "## EXP"
   ]
  },
  {
   "cell_type": "code",
   "execution_count": null,
   "metadata": {},
   "outputs": [],
   "source": [
    "# to check last digit of bin to be 1 or 0, Do & operation with 1\n",
    "# 1101 & 0001 = 0001 ~ 1\n",
    "# 110 & 001 = 000 not equal to 1"
   ]
  },
  {
   "cell_type": "code",
   "execution_count": 1363,
   "metadata": {},
   "outputs": [
    {
     "name": "stdout",
     "output_type": "stream",
     "text": [
      "12.6 µs ± 542 ns per loop (mean ± std. dev. of 7 runs, 100000 loops each)\n"
     ]
    }
   ],
   "source": [
    "%%timeit\n",
    "for i in range(1000):\n",
    "    12>>2\n"
   ]
  },
  {
   "cell_type": "code",
   "execution_count": 1364,
   "metadata": {},
   "outputs": [
    {
     "name": "stdout",
     "output_type": "stream",
     "text": [
      "12.2 µs ± 379 ns per loop (mean ± std. dev. of 7 runs, 100000 loops each)\n"
     ]
    }
   ],
   "source": [
    "%%timeit\n",
    "for i in range(1000):\n",
    "    12//4"
   ]
  },
  {
   "cell_type": "code",
   "execution_count": 1366,
   "metadata": {},
   "outputs": [
    {
     "data": {
      "text/plain": [
       "0"
      ]
     },
     "execution_count": 1366,
     "metadata": {},
     "output_type": "execute_result"
    }
   ],
   "source": [
    "2&1"
   ]
  },
  {
   "cell_type": "code",
   "execution_count": 21,
   "metadata": {},
   "outputs": [
    {
     "data": {
      "text/plain": [
       "50"
      ]
     },
     "execution_count": 21,
     "metadata": {},
     "output_type": "execute_result"
    }
   ],
   "source": [
    "100 and 50"
   ]
  },
  {
   "cell_type": "code",
   "execution_count": null,
   "metadata": {},
   "outputs": [],
   "source": []
  }
 ],
 "metadata": {
  "kernelspec": {
   "display_name": "Python 3",
   "language": "python",
   "name": "python3"
  },
  "language_info": {
   "codemirror_mode": {
    "name": "ipython",
    "version": 3
   },
   "file_extension": ".py",
   "mimetype": "text/x-python",
   "name": "python",
   "nbconvert_exporter": "python",
   "pygments_lexer": "ipython3",
   "version": "3.8.10"
  }
 },
 "nbformat": 4,
 "nbformat_minor": 4
}
